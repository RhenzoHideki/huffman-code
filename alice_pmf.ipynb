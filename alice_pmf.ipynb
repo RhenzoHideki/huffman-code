{
 "cells": [
  {
   "cell_type": "code",
   "execution_count": 23,
   "metadata": {},
   "outputs": [],
   "source": [
    "import komm\n",
    "import numpy as np\n",
    "from collections import Counter\n",
    "import os"
   ]
  },
  {
   "cell_type": "code",
   "execution_count": 24,
   "metadata": {},
   "outputs": [],
   "source": [
    "def entropy(pmf, base=2):\n",
    "    pmf = np.array(pmf)\n",
    "    return -np.sum(pmf * np.log2(pmf))"
   ]
  },
  {
   "cell_type": "code",
   "execution_count": 25,
   "metadata": {},
   "outputs": [],
   "source": [
    "def compress_file(input_file, output_file):\n",
    "    # Ler o arquivo de entrada\n",
    "    with open(input_file, 'r', encoding='utf-8') as file:\n",
    "        text = file.read()\n",
    "\n",
    "    # Calcular a frequência de cada caractere\n",
    "    freq = Counter(text)\n",
    "    total_chars = len(text)\n",
    "    pmf = [count / total_chars for count in freq.values()]\n",
    "    symbols = list(freq.keys())\n",
    "\n",
    "    # Gerar o código de Huffman\n",
    "    huffman_code = komm.HuffmanCode(symbols, pmf)\n",
    "\n",
    "    # Comprimir o texto\n",
    "    compressed_bits = ''.join(huffman_code.encode(text))\n",
    "\n",
    "    # Salvar o arquivo comprimido\n",
    "    with open(output_file, 'wb') as file:\n",
    "        # Converter bits para bytes e salvar\n",
    "        byte_array = bytearray()\n",
    "        for i in range(0, len(compressed_bits), 8):\n",
    "            byte = compressed_bits[i:i+8]\n",
    "            byte_array.append(int(byte, 2))\n",
    "        file.write(byte_array)\n",
    "\n",
    "    # Retornar o código de Huffman e as frequências para uso na descompressão\n",
    "    return huffman_code, freq"
   ]
  },
  {
   "cell_type": "code",
   "execution_count": 26,
   "metadata": {},
   "outputs": [],
   "source": [
    "def decompress_file(input_file, output_file, huffman_code):\n",
    "    # Ler o arquivo comprimido\n",
    "    with open(input_file, 'rb') as file:\n",
    "        byte_array = file.read()\n",
    "\n",
    "    # Converter bytes para bits\n",
    "    compressed_bits = ''.join(f'{byte:08b}' for byte in byte_array)\n",
    "\n",
    "    # Descomprimir o texto\n",
    "    decompressed_text = huffman_code.decode(compressed_bits)\n",
    "\n",
    "    # Salvar o arquivo descomprimido\n",
    "    with open(output_file, 'w', encoding='utf-8') as file:\n",
    "        file.write(decompressed_text)\n"
   ]
  },
  {
   "cell_type": "code",
   "execution_count": 27,
   "metadata": {},
   "outputs": [],
   "source": [
    "def calculate_metrics(input_file, compressed_file, huffman_code, freq):\n",
    "    # Tamanho do arquivo original (em bytes)\n",
    "    original_size = os.path.getsize(input_file)\n",
    "\n",
    "    # Tamanho do arquivo comprimido (em bytes)\n",
    "    compressed_size = os.path.getsize(compressed_file)\n",
    "\n",
    "    # Taxa de compressão\n",
    "    compression_ratio = compressed_size / original_size\n",
    "\n",
    "    # Entropia da distribuição de frequências\n",
    "    pmf = [count / sum(freq.values()) for count in freq.values()]\n",
    "    H = entropy(pmf)\n",
    "\n",
    "    # Comprimento médio do código de Huffman\n",
    "    avg_length = huffman_code.rate(pmf)\n",
    "\n",
    "    # Exibir resultados\n",
    "    print(f\"Entropia da distribuição de frequências: {H:.4f} bits\")\n",
    "    print(f\"Comprimento médio do código de Huffman: {avg_length:.4f} bits\")\n",
    "    print(f\"Tamanho do arquivo original: {original_size} bytes\")\n",
    "    print(f\"Tamanho do arquivo comprimido: {compressed_size} bytes\")\n",
    "    print(f\"Taxa de compressão: {compression_ratio:.4f}\")\n",
    "\n"
   ]
  },
  {
   "cell_type": "code",
   "execution_count": 28,
   "metadata": {},
   "outputs": [
    {
     "ename": "ValueError",
     "evalue": "could not convert string to float: '*'",
     "output_type": "error",
     "traceback": [
      "\u001b[0;31m---------------------------------------------------------------------------\u001b[0m",
      "\u001b[0;31mValueError\u001b[0m                                Traceback (most recent call last)",
      "Cell \u001b[0;32mIn[28], line 7\u001b[0m\n\u001b[1;32m      4\u001b[0m decompressed_file \u001b[38;5;241m=\u001b[39m \u001b[38;5;124m'\u001b[39m\u001b[38;5;124malice_decompressed.txt\u001b[39m\u001b[38;5;124m'\u001b[39m  \u001b[38;5;66;03m# Arquivo descomprimido\u001b[39;00m\n\u001b[1;32m      6\u001b[0m \u001b[38;5;66;03m# Comprimir o arquivo\u001b[39;00m\n\u001b[0;32m----> 7\u001b[0m huffman_code, freq \u001b[38;5;241m=\u001b[39m \u001b[43mcompress_file\u001b[49m\u001b[43m(\u001b[49m\u001b[43minput_file\u001b[49m\u001b[43m,\u001b[49m\u001b[43m \u001b[49m\u001b[43mcompressed_file\u001b[49m\u001b[43m)\u001b[49m\n\u001b[1;32m      9\u001b[0m \u001b[38;5;66;03m# Descomprimir o arquivo\u001b[39;00m\n\u001b[1;32m     10\u001b[0m decompress_file(compressed_file, decompressed_file, huffman_code)\n",
      "Cell \u001b[0;32mIn[25], line 13\u001b[0m, in \u001b[0;36mcompress_file\u001b[0;34m(input_file, output_file)\u001b[0m\n\u001b[1;32m     10\u001b[0m symbols \u001b[38;5;241m=\u001b[39m \u001b[38;5;28mlist\u001b[39m(freq\u001b[38;5;241m.\u001b[39mkeys())\n\u001b[1;32m     12\u001b[0m \u001b[38;5;66;03m# Gerar o código de Huffman\u001b[39;00m\n\u001b[0;32m---> 13\u001b[0m huffman_code \u001b[38;5;241m=\u001b[39m \u001b[43mkomm\u001b[49m\u001b[38;5;241;43m.\u001b[39;49m\u001b[43mHuffmanCode\u001b[49m\u001b[43m(\u001b[49m\u001b[43msymbols\u001b[49m\u001b[43m,\u001b[49m\u001b[43m \u001b[49m\u001b[43mpmf\u001b[49m\u001b[43m)\u001b[49m\n\u001b[1;32m     15\u001b[0m \u001b[38;5;66;03m# Comprimir o texto\u001b[39;00m\n\u001b[1;32m     16\u001b[0m compressed_bits \u001b[38;5;241m=\u001b[39m \u001b[38;5;124m'\u001b[39m\u001b[38;5;124m'\u001b[39m\u001b[38;5;241m.\u001b[39mjoin(huffman_code\u001b[38;5;241m.\u001b[39mencode(text))\n",
      "File \u001b[0;32m~/huffman-code/.venv/lib/python3.12/site-packages/komm/_lossless_coding/HuffmanCode.py:57\u001b[0m, in \u001b[0;36mHuffmanCode\u001b[0;34m(pmf, source_block_size, policy)\u001b[0m\n\u001b[1;32m     16\u001b[0m \u001b[38;5;28;01mdef\u001b[39;00m\u001b[38;5;250m \u001b[39m\u001b[38;5;21mHuffmanCode\u001b[39m(\n\u001b[1;32m     17\u001b[0m     pmf: npt\u001b[38;5;241m.\u001b[39mArrayLike,\n\u001b[1;32m     18\u001b[0m     source_block_size: \u001b[38;5;28mint\u001b[39m \u001b[38;5;241m=\u001b[39m \u001b[38;5;241m1\u001b[39m,\n\u001b[1;32m     19\u001b[0m     policy: Literal[\u001b[38;5;124m\"\u001b[39m\u001b[38;5;124mhigh\u001b[39m\u001b[38;5;124m\"\u001b[39m, \u001b[38;5;124m\"\u001b[39m\u001b[38;5;124mlow\u001b[39m\u001b[38;5;124m\"\u001b[39m] \u001b[38;5;241m=\u001b[39m \u001b[38;5;124m\"\u001b[39m\u001b[38;5;124mhigh\u001b[39m\u001b[38;5;124m\"\u001b[39m,\n\u001b[1;32m     20\u001b[0m ) \u001b[38;5;241m-\u001b[39m\u001b[38;5;241m>\u001b[39m FixedToVariableCode:\n\u001b[1;32m     21\u001b[0m \u001b[38;5;250m    \u001b[39m\u001b[38;5;124mr\u001b[39m\u001b[38;5;124;03m\"\"\"\u001b[39;00m\n\u001b[1;32m     22\u001b[0m \u001b[38;5;124;03m    Binary Huffman code. It is an optimal (minimal expected rate) [fixed-to-variable length code](/ref/FixedToVariableCode) for a given probability mass function. For more details, see <cite>Say06, Sec. 3.2</cite>.\u001b[39;00m\n\u001b[1;32m     23\u001b[0m \n\u001b[0;32m   (...)\u001b[0m\n\u001b[1;32m     55\u001b[0m \u001b[38;5;124;03m        np.float64(1.1975)\u001b[39;00m\n\u001b[1;32m     56\u001b[0m \u001b[38;5;124;03m    \"\"\"\u001b[39;00m\n\u001b[0;32m---> 57\u001b[0m     pmf \u001b[38;5;241m=\u001b[39m \u001b[43mPMF\u001b[49m\u001b[43m(\u001b[49m\u001b[43mpmf\u001b[49m\u001b[43m)\u001b[49m\n\u001b[1;32m     58\u001b[0m     \u001b[38;5;28;01mif\u001b[39;00m \u001b[38;5;129;01mnot\u001b[39;00m policy \u001b[38;5;129;01min\u001b[39;00m {\u001b[38;5;124m\"\u001b[39m\u001b[38;5;124mhigh\u001b[39m\u001b[38;5;124m\"\u001b[39m, \u001b[38;5;124m\"\u001b[39m\u001b[38;5;124mlow\u001b[39m\u001b[38;5;124m\"\u001b[39m}:\n\u001b[1;32m     59\u001b[0m         \u001b[38;5;28;01mraise\u001b[39;00m \u001b[38;5;167;01mValueError\u001b[39;00m(\u001b[38;5;124m\"\u001b[39m\u001b[38;5;124m'\u001b[39m\u001b[38;5;124mpolicy\u001b[39m\u001b[38;5;124m'\u001b[39m\u001b[38;5;124m: must be in \u001b[39m\u001b[38;5;124m{\u001b[39m\u001b[38;5;124m'\u001b[39m\u001b[38;5;124mhigh\u001b[39m\u001b[38;5;124m'\u001b[39m\u001b[38;5;124m, \u001b[39m\u001b[38;5;124m'\u001b[39m\u001b[38;5;124mlow\u001b[39m\u001b[38;5;124m'\u001b[39m\u001b[38;5;124m}\u001b[39m\u001b[38;5;124m\"\u001b[39m)\n",
      "File \u001b[0;32m~/huffman-code/.venv/lib/python3.12/site-packages/komm/_util/information_theory.py:25\u001b[0m, in \u001b[0;36mPMF.__new__\u001b[0;34m(cls, values)\u001b[0m\n\u001b[1;32m     24\u001b[0m \u001b[38;5;28;01mdef\u001b[39;00m\u001b[38;5;250m \u001b[39m\u001b[38;5;21m__new__\u001b[39m(\u001b[38;5;28mcls\u001b[39m, values: npt\u001b[38;5;241m.\u001b[39mArrayLike):\n\u001b[0;32m---> 25\u001b[0m     arr \u001b[38;5;241m=\u001b[39m \u001b[43mnp\u001b[49m\u001b[38;5;241;43m.\u001b[39;49m\u001b[43masarray\u001b[49m\u001b[43m(\u001b[49m\u001b[43mvalues\u001b[49m\u001b[43m,\u001b[49m\u001b[43m \u001b[49m\u001b[43mdtype\u001b[49m\u001b[38;5;241;43m=\u001b[39;49m\u001b[38;5;28;43mfloat\u001b[39;49m\u001b[43m)\u001b[49m\n\u001b[1;32m     26\u001b[0m     \u001b[38;5;28;01mif\u001b[39;00m arr\u001b[38;5;241m.\u001b[39mndim \u001b[38;5;241m!=\u001b[39m \u001b[38;5;241m1\u001b[39m:\n\u001b[1;32m     27\u001b[0m         \u001b[38;5;28;01mraise\u001b[39;00m \u001b[38;5;167;01mValueError\u001b[39;00m(\u001b[38;5;124m\"\u001b[39m\u001b[38;5;124mPMF must be a 1D array\u001b[39m\u001b[38;5;124m\"\u001b[39m)\n",
      "\u001b[0;31mValueError\u001b[0m: could not convert string to float: '*'"
     ]
    }
   ],
   "source": [
    "# Arquivos de entrada e saída\n",
    "input_file = 'alice.txt'  # Arquivo de entrada\n",
    "compressed_file = 'alice_compressed.bin'  # Arquivo comprimido\n",
    "decompressed_file = 'alice_decompressed.txt'  # Arquivo descomprimido\n",
    "\n",
    "# Comprimir o arquivo\n",
    "huffman_code, freq = compress_file(input_file, compressed_file)\n",
    "\n",
    "# Descomprimir o arquivo\n",
    "decompress_file(compressed_file, decompressed_file, huffman_code)\n",
    "\n",
    "# Calcular métricas\n",
    "calculate_metrics(input_file, compressed_file, huffman_code, freq)\n"
   ]
  }
 ],
 "metadata": {
  "kernelspec": {
   "display_name": ".venv",
   "language": "python",
   "name": "python3"
  },
  "language_info": {
   "codemirror_mode": {
    "name": "ipython",
    "version": 3
   },
   "file_extension": ".py",
   "mimetype": "text/x-python",
   "name": "python",
   "nbconvert_exporter": "python",
   "pygments_lexer": "ipython3",
   "version": "3.12.3"
  }
 },
 "nbformat": 4,
 "nbformat_minor": 2
}
