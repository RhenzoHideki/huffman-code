{
 "cells": [
  {
   "cell_type": "code",
   "execution_count": 11,
   "metadata": {},
   "outputs": [],
   "source": [
    "import komm\n",
    "import numpy as np  "
   ]
  },
  {
   "cell_type": "code",
   "execution_count": 26,
   "metadata": {},
   "outputs": [
    {
     "name": "stdout",
     "output_type": "stream",
     "text": [
      "1.295461844238322\n"
     ]
    }
   ],
   "source": [
    "px = [3/10, 6/10, 1/10]\n",
    "\n",
    "#Calculando entropia da fonte\n",
    "dms = komm.DiscreteMemorylessSource(px)\n",
    "print(dms.entropy())"
   ]
  },
  {
   "cell_type": "code",
   "execution_count": 28,
   "metadata": {},
   "outputs": [
    {
     "name": "stdout",
     "output_type": "stream",
     "text": [
      "[(1, 0), (0,), (1, 1)] 1.4\n"
     ]
    }
   ],
   "source": [
    "#Determine um código de Huffman para a fonte. Qual o comprimento médio do código obtido\n",
    "huffman_code = komm.HuffmanCode(px)\n",
    "print(huffman_code.codewords , huffman_code.rate(px))"
   ]
  },
  {
   "cell_type": "code",
   "execution_count": 30,
   "metadata": {},
   "outputs": [
    {
     "name": "stdout",
     "output_type": "stream",
     "text": [
      "[(1, 0), (0,), (1, 1)] 1.4\n"
     ]
    }
   ],
   "source": [
    "huffman_code2 = komm.HuffmanCode(px , policy=\"low\")\n",
    "print(huffman_code.codewords , huffman_code.rate(px))"
   ]
  },
  {
   "cell_type": "code",
   "execution_count": 32,
   "metadata": {},
   "outputs": [
    {
     "name": "stdout",
     "output_type": "stream",
     "text": [
      "Entropia da fonte original (H(X)): 1.2955 bits\n",
      "Entropia da extensão de segunda ordem (H(X^2)): 2.5909 bits\n"
     ]
    }
   ],
   "source": [
    "H_X = dms.entropy()\n",
    "\n",
    "# Entropia da extensão de segunda ordem\n",
    "H_X2 = 2 * H_X\n",
    "\n",
    "print(f\"Entropia da fonte original (H(X)): {H_X:.4f} bits\")\n",
    "print(f\"Entropia da extensão de segunda ordem (H(X^2)): {H_X2:.4f} bits\")"
   ]
  },
  {
   "cell_type": "code",
   "execution_count": 34,
   "metadata": {},
   "outputs": [
    {
     "name": "stdout",
     "output_type": "stream",
     "text": [
      "Código de Huffman para a extensão de segunda ordem:\n",
      "Símbolo: aa, Código: (0, 1, 0, 0)\n",
      "Símbolo: ab, Código: (1, 1)\n",
      "Símbolo: ac, Código: (0, 1, 0, 1, 0, 0)\n",
      "Símbolo: ba, Código: (1, 0)\n",
      "Símbolo: bb, Código: (0, 0)\n",
      "Símbolo: bc, Código: (0, 1, 1, 1)\n",
      "Símbolo: ca, Código: (0, 1, 0, 1, 1)\n",
      "Símbolo: cb, Código: (0, 1, 1, 0)\n",
      "Símbolo: cc, Código: (0, 1, 0, 1, 0, 1)\n",
      "Comprimento médio do código: 2.6700\n"
     ]
    }
   ],
   "source": [
    "# Símbolos e probabilidades da fonte original\n",
    "symbols = ['a', 'b', 'c']\n",
    "probabilities = [3/10, 6/10, 1/10]\n",
    "\n",
    "# Criação dos símbolos da extensão de segunda ordem\n",
    "symbols_second_order = [s1 + s2 for s1 in symbols for s2 in symbols]\n",
    "\n",
    "# Cálculo das probabilidades da extensão de segunda ordem\n",
    "probabilities_second_order = [p1 * p2 for p1 in probabilities for p2 in probabilities]\n",
    "\n",
    "# Criação do código de Huffman para a extensão de segunda ordem\n",
    "huffman_code_second_order = komm.HuffmanCode(probabilities_second_order)\n",
    "\n",
    "# Exibição do código de Huffman\n",
    "print(\"Código de Huffman para a extensão de segunda ordem:\")\n",
    "for symbol, code in zip(symbols_second_order, huffman_code_second_order.codewords):\n",
    "    print(f\"Símbolo: {symbol}, Código: {code}\")\n",
    "\n",
    "# Cálculo do comprimento médio do código\n",
    "average_code_length = sum(len(code) * prob for code, prob in zip(huffman_code_second_order.codewords, probabilities_second_order))\n",
    "print(f\"Comprimento médio do código: {average_code_length:.4f}\")"
   ]
  },
  {
   "cell_type": "code",
   "execution_count": null,
   "metadata": {},
   "outputs": [],
   "source": []
  }
 ],
 "metadata": {
  "kernelspec": {
   "display_name": ".venv",
   "language": "python",
   "name": "python3"
  },
  "language_info": {
   "codemirror_mode": {
    "name": "ipython",
    "version": 3
   },
   "file_extension": ".py",
   "mimetype": "text/x-python",
   "name": "python",
   "nbconvert_exporter": "python",
   "pygments_lexer": "ipython3",
   "version": "3.12.3"
  }
 },
 "nbformat": 4,
 "nbformat_minor": 2
}
