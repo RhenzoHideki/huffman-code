{
 "cells": [
  {
   "cell_type": "code",
   "execution_count": 1,
   "metadata": {},
   "outputs": [],
   "source": [
    "import komm"
   ]
  },
  {
   "cell_type": "code",
   "execution_count": 2,
   "metadata": {},
   "outputs": [],
   "source": [
    "code1 = komm.FixedToVariableCode.from_codewords(4,[(0,0),(0,1),(1,0),(1,1)])\n",
    "code2 = komm.FixedToVariableCode.from_codewords(4,[(1,),(0,1),(0,0,0),(0,0,1)])\n",
    "code3 = komm.FixedToVariableCode.from_codewords(4,[(0,),(0,1),(0,1,1),(0,1,1,1)])\n",
    "code4 = komm.FixedToVariableCode.from_codewords(4,[(0,),(1,),(0,0),(1,1)])\n"
   ]
  },
  {
   "cell_type": "code",
   "execution_count": 3,
   "metadata": {},
   "outputs": [
    {
     "name": "stdout",
     "output_type": "stream",
     "text": [
      "True True\n",
      "True True\n",
      "True False\n",
      "False False\n"
     ]
    }
   ],
   "source": [
    "print(code1.is_uniquely_decodable(), code1.is_prefix_free())\n",
    "print(code2.is_uniquely_decodable(), code2.is_prefix_free())\n",
    "print(code3.is_uniquely_decodable(), code3.is_prefix_free())\n",
    "print(code4.is_uniquely_decodable(), code4.is_prefix_free())"
   ]
  },
  {
   "cell_type": "code",
   "execution_count": 4,
   "metadata": {},
   "outputs": [
    {
     "name": "stdout",
     "output_type": "stream",
     "text": [
      "[0 1 0 0 0 1 0 0 1 0 0 0]\n",
      "[1 0 1 0 2 0]\n",
      "[0 1 1 0 1 1 0 0 0 1]\n",
      "[1 0 1 0 2 0]\n"
     ]
    }
   ],
   "source": [
    "palavra = [1,0,1,0,2,0]\n",
    "bits = code1.encode(palavra)\n",
    "print(bits)\n",
    "palavra_hat = code1.decode(bits)\n",
    "print(palavra_hat)\n",
    "\n",
    "bits = code2.encode(palavra)\n",
    "print(bits)\n",
    "palavra_hat = code2.decode(bits)\n",
    "print(palavra_hat)"
   ]
  },
  {
   "cell_type": "code",
   "execution_count": 5,
   "metadata": {},
   "outputs": [
    {
     "name": "stdout",
     "output_type": "stream",
     "text": [
      "2.0\n",
      "1.75\n",
      "1.875\n",
      "1.25\n"
     ]
    }
   ],
   "source": [
    "pmf = [1/2,1/4,1/8,1/8]\n",
    "print(code1.rate(pmf))\n",
    "print(code2.rate(pmf))\n",
    "print(code3.rate(pmf))\n",
    "print(code4.rate(pmf))\n",
    " "
   ]
  },
  {
   "cell_type": "code",
   "execution_count": 6,
   "metadata": {},
   "outputs": [
    {
     "name": "stdout",
     "output_type": "stream",
     "text": [
      "20000\n",
      "17413\n",
      "18584\n"
     ]
    },
    {
     "data": {
      "text/plain": [
       "np.float64(1.75)"
      ]
     },
     "execution_count": 6,
     "metadata": {},
     "output_type": "execute_result"
    }
   ],
   "source": [
    "dms = komm.DiscreteMemorylessSource(pmf)\n",
    "texto = dms(10000)\n",
    "\n",
    "bits1 = code1.encode(texto)\n",
    "print(len(bits1))\n",
    "\n",
    "bits2 = code2.encode(texto)\n",
    "print(len(bits2))\n",
    "\n",
    "bits3 = code3.encode(texto)\n",
    "print(len(bits3))\n",
    "\n",
    "dms.entropy()"
   ]
  },
  {
   "cell_type": "code",
   "execution_count": 9,
   "metadata": {},
   "outputs": [
    {
     "name": "stdout",
     "output_type": "stream",
     "text": [
      "[(1,), (0, 1), (0, 0, 1), (0, 0, 0)]\n",
      "[(0, 0), (1, 1), (1, 0), (0, 1, 1), (0, 1, 0)] 2.2\n",
      "[(1,), (0, 1), (0, 0, 0), (0, 0, 1, 0), (0, 0, 1, 1)] 2.2\n"
     ]
    }
   ],
   "source": [
    "#Huffmamn\n",
    "pmf1 = [1/2,1/4,1/8,1/8]\n",
    "huff1 = komm.HuffmanCode(pmf1)\n",
    "print(huff1.codewords)\n",
    "\n",
    "pmf2 =  [ 0.4 , 0.2 , 0.2 , 0.1 , 0.1]\n",
    "huff2 = komm.HuffmanCode(pmf2)\n",
    "print(huff2.codewords, huff2.rate(pmf2))\n",
    "\n",
    "huff2a = komm.HuffmanCode(pmf2 , policy=\"low\")\n",
    "print(huff2a.codewords , huff2a.rate(pmf2))"
   ]
  },
  {
   "cell_type": "code",
   "execution_count": null,
   "metadata": {},
   "outputs": [],
   "source": []
  }
 ],
 "metadata": {
  "kernelspec": {
   "display_name": ".venv",
   "language": "python",
   "name": "python3"
  },
  "language_info": {
   "codemirror_mode": {
    "name": "ipython",
    "version": 3
   },
   "file_extension": ".py",
   "mimetype": "text/x-python",
   "name": "python",
   "nbconvert_exporter": "python",
   "pygments_lexer": "ipython3",
   "version": "3.11.2"
  }
 },
 "nbformat": 4,
 "nbformat_minor": 2
}
